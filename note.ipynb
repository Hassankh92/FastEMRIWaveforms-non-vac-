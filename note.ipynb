{
 "cells": [
  {
   "cell_type": "code",
   "execution_count": 1,
   "metadata": {},
   "outputs": [
    {
     "name": "stdout",
     "output_type": "stream",
     "text": [
      "The history saving thread hit an unexpected error (DatabaseError('database disk image is malformed')).History will not be written to the database.\n"
     ]
    },
    {
     "ename": "ImportError",
     "evalue": "cannot import name 'set_threads_wrap' from 'pyUtility' (/home/hkhalvati/.conda/envs/dirty_few/lib/python3.10/site-packages/fastemriwaveforms-1.5.5-py3.10-linux-x86_64.egg/pyUtility.cpython-310-x86_64-linux-gnu.so)",
     "output_type": "error",
     "traceback": [
      "\u001b[0;31m---------------------------------------------------------------------------\u001b[0m",
      "\u001b[0;31mImportError\u001b[0m                               Traceback (most recent call last)",
      "Cell \u001b[0;32mIn[1], line 18\u001b[0m\n\u001b[1;32m     15\u001b[0m \u001b[38;5;28;01mimport\u001b[39;00m \u001b[38;5;21;01mwarnings\u001b[39;00m\n\u001b[1;32m     17\u001b[0m \u001b[38;5;28;01mfrom\u001b[39;00m \u001b[38;5;21;01mmatplotlib\u001b[39;00m \u001b[38;5;28;01mimport\u001b[39;00m pyplot \u001b[38;5;28;01mas\u001b[39;00m plt\n\u001b[0;32m---> 18\u001b[0m \u001b[38;5;28;01mfrom\u001b[39;00m \u001b[38;5;21;01mfew\u001b[39;00m\u001b[38;5;21;01m.\u001b[39;00m\u001b[38;5;21;01mtrajectory\u001b[39;00m\u001b[38;5;21;01m.\u001b[39;00m\u001b[38;5;21;01minspiral\u001b[39;00m \u001b[38;5;28;01mimport\u001b[39;00m EMRIInspiral\n\u001b[1;32m     19\u001b[0m \u001b[38;5;28;01mfrom\u001b[39;00m \u001b[38;5;21;01mfew\u001b[39;00m\u001b[38;5;21;01m.\u001b[39;00m\u001b[38;5;21;01mutils\u001b[39;00m\u001b[38;5;21;01m.\u001b[39;00m\u001b[38;5;21;01mbaseclasses\u001b[39;00m \u001b[38;5;28;01mimport\u001b[39;00m SchwarzschildEccentric, Pn5AAK, ParallelModuleBase, KerrCircular\n\u001b[1;32m     20\u001b[0m \u001b[38;5;28;01mfrom\u001b[39;00m \u001b[38;5;21;01mfew\u001b[39;00m\u001b[38;5;21;01m.\u001b[39;00m\u001b[38;5;21;01mwaveform\u001b[39;00m \u001b[38;5;28;01mimport\u001b[39;00m FastSchwarzschildEccentricFlux, AAKWaveformBase, Pn5AAKWaveform, SlowSchwarzschildEccentricFlux, KerrCircularFlux, MigrationTorqueKerrCircularFlux, ScalarCloudKerrCircularFlux\n",
      "File \u001b[0;32m~/Downloads/FastEMRIWaveforms_KerrCircNonvac/few/trajectory/inspiral.py:28\u001b[0m\n\u001b[1;32m     25\u001b[0m \u001b[38;5;28;01mfrom\u001b[39;00m \u001b[38;5;21;01mscipy\u001b[39;00m\u001b[38;5;21;01m.\u001b[39;00m\u001b[38;5;21;01minterpolate\u001b[39;00m \u001b[38;5;28;01mimport\u001b[39;00m CubicSpline\n\u001b[1;32m     27\u001b[0m \u001b[38;5;66;03m# Cython/C++ imports\u001b[39;00m\n\u001b[0;32m---> 28\u001b[0m \u001b[38;5;28;01mfrom\u001b[39;00m \u001b[38;5;21;01mpyInspiral\u001b[39;00m \u001b[38;5;28;01mimport\u001b[39;00m pyInspiralGenerator, pyDerivative\n\u001b[1;32m     30\u001b[0m \u001b[38;5;66;03m# Python imports\u001b[39;00m\n\u001b[1;32m     31\u001b[0m \u001b[38;5;28;01mfrom\u001b[39;00m \u001b[38;5;21;01mfew\u001b[39;00m\u001b[38;5;21;01m.\u001b[39;00m\u001b[38;5;21;01mutils\u001b[39;00m\u001b[38;5;21;01m.\u001b[39;00m\u001b[38;5;21;01mbaseclasses\u001b[39;00m \u001b[38;5;28;01mimport\u001b[39;00m TrajectoryBase\n",
      "File \u001b[0;32m~/Downloads/FastEMRIWaveforms_KerrCircNonvac/src/inspiralwrap.pyx:6\u001b[0m, in \u001b[0;36minit pyInspiral\u001b[0;34m()\u001b[0m\n\u001b[1;32m      4\u001b[0m from libcpp cimport bool\n\u001b[1;32m      5\u001b[0m \n\u001b[0;32m----> 6\u001b[0m from few.utils.utility import pointer_adjust\n\u001b[1;32m      7\u001b[0m \n\u001b[1;32m      8\u001b[0m assert sizeof(int) == sizeof(np.int32_t)\n",
      "File \u001b[0;32m~/Downloads/FastEMRIWaveforms_KerrCircNonvac/few/utils/utility.py:28\u001b[0m\n\u001b[1;32m     25\u001b[0m \u001b[38;5;28;01mfrom\u001b[39;00m \u001b[38;5;21;01mscipy\u001b[39;00m\u001b[38;5;21;01m.\u001b[39;00m\u001b[38;5;21;01minterpolate\u001b[39;00m \u001b[38;5;28;01mimport\u001b[39;00m CubicSpline\n\u001b[1;32m     26\u001b[0m \u001b[38;5;28;01mfrom\u001b[39;00m \u001b[38;5;21;01mscipy\u001b[39;00m\u001b[38;5;21;01m.\u001b[39;00m\u001b[38;5;21;01moptimize\u001b[39;00m \u001b[38;5;28;01mimport\u001b[39;00m brentq\n\u001b[0;32m---> 28\u001b[0m \u001b[38;5;28;01mfrom\u001b[39;00m \u001b[38;5;21;01mpyUtility\u001b[39;00m \u001b[38;5;28;01mimport\u001b[39;00m (\n\u001b[1;32m     29\u001b[0m     pyKerrGeoCoordinateFrequencies,\n\u001b[1;32m     30\u001b[0m     pyGetSeparatrix,\n\u001b[1;32m     31\u001b[0m     pyKerrGeoConstantsOfMotionVectorized,\n\u001b[1;32m     32\u001b[0m     pyY_to_xI_vector,\n\u001b[1;32m     33\u001b[0m     set_threads_wrap,\n\u001b[1;32m     34\u001b[0m     get_threads_wrap,\n\u001b[1;32m     35\u001b[0m     pyKerrEqSpinFrequenciesCorr\n\u001b[1;32m     36\u001b[0m )\n\u001b[1;32m     38\u001b[0m \u001b[38;5;66;03m# check to see if cupy is available for gpus\u001b[39;00m\n\u001b[1;32m     39\u001b[0m \u001b[38;5;28;01mtry\u001b[39;00m:\n",
      "\u001b[0;31mImportError\u001b[0m: cannot import name 'set_threads_wrap' from 'pyUtility' (/home/hkhalvati/.conda/envs/dirty_few/lib/python3.10/site-packages/fastemriwaveforms-1.5.5-py3.10-linux-x86_64.egg/pyUtility.cpython-310-x86_64-linux-gnu.so)"
     ]
    }
   ],
   "source": [
    "# -*- coding: utf-8 -*-\n",
    "\"\"\"\n",
    "Created on Fri Oct 21 00:12:59 2022\n",
    "\n",
    "@author: hassa\n",
    "\"\"\"\n",
    "import numpy as np\n",
    "import scipy as sp\n",
    "import scipy.special\n",
    "import numpy as np\n",
    "import math\n",
    "import matplotlib.pyplot as plt\n",
    "\n",
    "\n",
    "import warnings\n",
    "\n",
    "from matplotlib import pyplot as plt\n",
    "from few.trajectory.inspiral import EMRIInspiral\n",
    "from few.utils.baseclasses import SchwarzschildEccentric, Pn5AAK, ParallelModuleBase, KerrCircular\n",
    "from few.waveform import FastSchwarzschildEccentricFlux, AAKWaveformBase, Pn5AAKWaveform, SlowSchwarzschildEccentricFlux, KerrCircularFlux, MigrationTorqueKerrCircularFlux, ScalarCloudKerrCircularFlux\n",
    "\n",
    "from few.summation.aakwave import AAKSummation\n",
    "from few.utils.utility import get_mismatch\n",
    "from few.waveform import   GenerateEMRIWaveform\n",
    "from few.summation.interpolatedmodesum import CubicSplineInterpolant\n",
    "from few.utils.constants import MTSUN_SI, YRSID_SI, Pi\n",
    "from few.waveform import SchwarzschildEccentricWaveformBase, RelativisticKerrCircularWaveformBase\n",
    "from few.utils.baseclasses import SchwarzschildEccentric\n",
    "from few.trajectory.inspiral import EMRIInspiral\n",
    "from few.amplitude.interp2dcubicspline import Interp2DAmplitude, Interp2DAmplitudeKerrCircular\n",
    "from few.summation.interpolatedmodesum import InterpolatedModeSum, CubicSplineInterpolant, InterpolatedModeSumKerrCircular\n",
    "from few.summation.directmodesum import DirectModeSum\n",
    "from few.utils.ylm import GetYlms\n",
    "from few.amplitude.romannet import RomanAmplitude\n",
    "\n",
    "try:\n",
    "    import cupy as xp\n",
    "\n",
    "    gpu_available = True\n",
    "\n",
    "except (ModuleNotFoundError, ImportError) as e:\n",
    "    import numpy as xp\n",
    "\n",
    "    warnings.warn(\n",
    "        \"CuPy is not installed or a gpu is not available. If trying to run on a gpu, please install CuPy.\"\n",
    "    )\n",
    "    gpu_available = False\n",
    "\n",
    "\n"
   ]
  },
  {
   "cell_type": "code",
   "execution_count": 2,
   "metadata": {},
   "outputs": [
    {
     "name": "stdout",
     "output_type": "stream",
     "text": [
      "<few.trajectory.inspiral.EMRIInspiral object at 0x155550862170>\n"
     ]
    }
   ],
   "source": [
    "traj_few = EMRIInspiral(func=\"SchwarzEccFlux\")\n",
    "print(traj_few)\n",
    "# traj_Kerr = EMRIInspiral(func=\"KerrCircFlux\")\n",
    "traj_migration = EMRIInspiral(func=\"MigTorqKerrCircFlux\")\n",
    "# traj_cloud = EMRIInspiral(func=\"CloudKerrCircFlux\")\n",
    "\n",
    "\n",
    "# T = 4.0 # years\n",
    "# dt = 10.0\n",
    "# # set initial parameters\n",
    "# M = 1e6\n",
    "# mu = 5e1\n",
    "# p0 = 12.0\n",
    "# e0 = 0.0\n",
    "# a0 = 0.5\n",
    "# x0 = 1.0\n",
    "# Y0 = 1.0\n",
    "\n",
    "\n",
    "# # sample values for migration params\n",
    "# A = 1e-5\n",
    "# nr = 8\n",
    "\n",
    "# # a sample value for the cloud\n",
    "# alpha =  0.16\n",
    "# Mb_M = 0.05\n",
    "\n",
    "\n",
    "\n",
    "# Kerr_result = traj_Kerr(M,mu,a0,p0,e0,Y0,T=T, dt=dt)\n",
    "# migration_result = traj_migration(M,mu,a0,p0,e0,Y0,A, nr,T=T, dt=dt)\n",
    "# cloud_result = traj_cloud(M,mu,a0,p0,e0,Y0,alpha,Mb_M,T=T, dt=dt)\n",
    "\n",
    "# t_Kerr  = Kerr_result[0]\n",
    "# t_migration = migration_result[0]\n",
    "# t_cloud = cloud_result[0]\n",
    "# print(\"Kerr final time: \", t_Kerr[-1], \"Migration final time: \", t_migration[-1], \"Cloud final time: \", t_cloud[-1])"
   ]
  },
  {
   "cell_type": "code",
   "execution_count": null,
   "metadata": {},
   "outputs": [],
   "source": []
  }
 ],
 "metadata": {
  "kernelspec": {
   "display_name": "dirty_few",
   "language": "python",
   "name": "dirty_few"
  },
  "language_info": {
   "codemirror_mode": {
    "name": "ipython",
    "version": 3
   },
   "file_extension": ".py",
   "mimetype": "text/x-python",
   "name": "python",
   "nbconvert_exporter": "python",
   "pygments_lexer": "ipython3",
   "version": "3.10.12"
  }
 },
 "nbformat": 4,
 "nbformat_minor": 2
}
