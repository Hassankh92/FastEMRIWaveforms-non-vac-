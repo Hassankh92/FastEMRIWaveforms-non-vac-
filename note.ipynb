{
 "cells": [
  {
   "cell_type": "code",
   "execution_count": 1,
   "metadata": {},
   "outputs": [
    {
     "name": "stdout",
     "output_type": "stream",
     "text": [
      "The history saving thread hit an unexpected error (DatabaseError('database disk image is malformed')).History will not be written to the database.\n"
     ]
    },
    {
     "name": "stderr",
     "output_type": "stream",
     "text": [
      "/tmp/ipykernel_3935096/1915119882.py:44: UserWarning: CuPy is not installed or a gpu is not available. If trying to run on a gpu, please install CuPy.\n",
      "  warnings.warn(\n"
     ]
    }
   ],
   "source": [
    "# -*- coding: utf-8 -*-\n",
    "\"\"\"\n",
    "Created on Fri Oct 21 00:12:59 2022\n",
    "\n",
    "@author: hassa\n",
    "\"\"\"\n",
    "import numpy as np\n",
    "import scipy as sp\n",
    "import scipy.special\n",
    "import numpy as np\n",
    "import math\n",
    "import matplotlib.pyplot as plt\n",
    "\n",
    "\n",
    "import warnings\n",
    "\n",
    "from matplotlib import pyplot as plt\n",
    "from few.trajectory.inspiral import EMRIInspiral\n",
    "from few.utils.baseclasses import SchwarzschildEccentric, Pn5AAK, ParallelModuleBase, KerrCircular\n",
    "from few.waveform import FastSchwarzschildEccentricFlux, AAKWaveformBase, Pn5AAKWaveform, SlowSchwarzschildEccentricFlux, KerrCircularFlux, MigrationTorqueKerrCircularFlux, ScalarCloudKerrCircularFlux\n",
    "\n",
    "from few.summation.aakwave import AAKSummation\n",
    "from few.utils.utility import get_mismatch\n",
    "from few.waveform import   GenerateEMRIWaveform\n",
    "from few.summation.interpolatedmodesum import CubicSplineInterpolant\n",
    "from few.utils.constants import MTSUN_SI, YRSID_SI, Pi\n",
    "from few.waveform import SchwarzschildEccentricWaveformBase, RelativisticKerrCircularWaveformBase\n",
    "from few.utils.baseclasses import SchwarzschildEccentric\n",
    "from few.trajectory.inspiral import EMRIInspiral\n",
    "from few.amplitude.interp2dcubicspline import Interp2DAmplitude, Interp2DAmplitudeKerrCircular\n",
    "from few.summation.interpolatedmodesum import InterpolatedModeSum, CubicSplineInterpolant, InterpolatedModeSumKerrCircular\n",
    "from few.summation.directmodesum import DirectModeSum\n",
    "from few.utils.ylm import GetYlms\n",
    "from few.amplitude.romannet import RomanAmplitude\n",
    "\n",
    "try:\n",
    "    import cupy as xp\n",
    "\n",
    "    gpu_available = True\n",
    "\n",
    "except (ModuleNotFoundError, ImportError) as e:\n",
    "    import numpy as xp\n",
    "\n",
    "    warnings.warn(\n",
    "        \"CuPy is not installed or a gpu is not available. If trying to run on a gpu, please install CuPy.\"\n",
    "    )\n",
    "    gpu_available = False\n",
    "\n",
    "\n"
   ]
  },
  {
   "cell_type": "code",
   "execution_count": 2,
   "metadata": {},
   "outputs": [
    {
     "ename": "",
     "evalue": "",
     "output_type": "error",
     "traceback": [
      "\u001b[1;31mThe Kernel crashed while executing code in the current cell or a previous cell. \n",
      "\u001b[1;31mPlease review the code in the cell(s) to identify a possible cause of the failure. \n",
      "\u001b[1;31mClick <a href='https://aka.ms/vscodeJupyterKernelCrash'>here</a> for more info. \n",
      "\u001b[1;31mView Jupyter <a href='command:jupyter.viewOutput'>log</a> for further details."
     ]
    }
   ],
   "source": [
    "traj_few = EMRIInspiral(func=\"SchwarzEccFlux\")\n",
    "print(traj_few)\n",
    "# traj_Kerr = EMRIInspiral(func=\"KerrCircFlux\")\n",
    "# traj_migration = EMRIInspiral(func=\"MigTorqKerrCircFlux\")\n",
    "# traj_cloud = EMRIInspiral(func=\"CloudKerrCircFlux\")\n",
    "\n",
    "\n",
    "# T = 4.0 # years\n",
    "# dt = 10.0\n",
    "# # set initial parameters\n",
    "# M = 1e6\n",
    "# mu = 5e1\n",
    "# p0 = 12.0\n",
    "# e0 = 0.0\n",
    "# a0 = 0.5\n",
    "# x0 = 1.0\n",
    "# Y0 = 1.0\n",
    "\n",
    "\n",
    "# # sample values for migration params\n",
    "# A = 1e-5\n",
    "# nr = 8\n",
    "\n",
    "# # a sample value for the cloud\n",
    "# alpha =  0.16\n",
    "# Mb_M = 0.05\n",
    "\n",
    "\n",
    "\n",
    "# Kerr_result = traj_Kerr(M,mu,a0,p0,e0,Y0,T=T, dt=dt)\n",
    "# migration_result = traj_migration(M,mu,a0,p0,e0,Y0,A, nr,T=T, dt=dt)\n",
    "# cloud_result = traj_cloud(M,mu,a0,p0,e0,Y0,alpha,Mb_M,T=T, dt=dt)\n",
    "\n",
    "# t_Kerr  = Kerr_result[0]\n",
    "# t_migration = migration_result[0]\n",
    "# t_cloud = cloud_result[0]\n",
    "# print(\"Kerr final time: \", t_Kerr[-1], \"Migration final time: \", t_migration[-1], \"Cloud final time: \", t_cloud[-1])"
   ]
  }
 ],
 "metadata": {
  "kernelspec": {
   "display_name": "dirty_few",
   "language": "python",
   "name": "dirty_few"
  },
  "language_info": {
   "codemirror_mode": {
    "name": "ipython",
    "version": 3
   },
   "file_extension": ".py",
   "mimetype": "text/x-python",
   "name": "python",
   "nbconvert_exporter": "python",
   "pygments_lexer": "ipython3",
   "version": "3.10.12"
  }
 },
 "nbformat": 4,
 "nbformat_minor": 2
}
